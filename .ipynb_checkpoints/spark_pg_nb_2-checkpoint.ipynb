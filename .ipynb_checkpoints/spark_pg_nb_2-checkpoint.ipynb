{
 "cells": [
  {
   "cell_type": "code",
   "execution_count": 62,
   "metadata": {},
   "outputs": [],
   "source": [
    "import pandas as pd\n",
    "import matplotlib.pyplot as plt\n",
    "from pyspark import SparkConf, SparkContext\n",
    "from pyspark.sql import SparkSession\n",
    "from pyspark.ml.stat import Correlation\n",
    "from pyspark.ml.feature import VectorAssembler, StringIndexer, Imputer, OneHotEncoderEstimator\n",
    "from pyspark.sql.functions import corr, udf, regexp_replace, desc, col, when\n",
    "from pyspark.sql.types import DoubleType\n",
    "from pyspark.ml.classification import LogisticRegression\n",
    "from pyspark.ml.evaluation import BinaryClassificationEvaluator\n"
   ]
  },
  {
   "cell_type": "code",
   "execution_count": 2,
   "metadata": {},
   "outputs": [],
   "source": [
    "spark = SparkSession.builder.master(\"local[4]\").appName(\"spg2\").getOrCreate()"
   ]
  },
  {
   "cell_type": "code",
   "execution_count": 3,
   "metadata": {},
   "outputs": [],
   "source": [
    "df = spark.read.format('csv').option('header', 'true').option('inferSchema', 'true').load('data/exercise_03_train.csv')"
   ]
  },
  {
   "cell_type": "code",
   "execution_count": 4,
   "metadata": {
    "scrolled": true
   },
   "outputs": [
    {
     "name": "stdout",
     "output_type": "stream",
     "text": [
      "root\n",
      " |-- x0: double (nullable = true)\n",
      " |-- x1: double (nullable = true)\n",
      " |-- x2: double (nullable = true)\n",
      " |-- x3: double (nullable = true)\n",
      " |-- x4: double (nullable = true)\n",
      " |-- x5: double (nullable = true)\n",
      " |-- x6: double (nullable = true)\n",
      " |-- x7: double (nullable = true)\n",
      " |-- x8: double (nullable = true)\n",
      " |-- x9: double (nullable = true)\n",
      " |-- x10: double (nullable = true)\n",
      " |-- x11: double (nullable = true)\n",
      " |-- x12: double (nullable = true)\n",
      " |-- x13: double (nullable = true)\n",
      " |-- x14: double (nullable = true)\n",
      " |-- x15: double (nullable = true)\n",
      " |-- x16: double (nullable = true)\n",
      " |-- x17: double (nullable = true)\n",
      " |-- x18: double (nullable = true)\n",
      " |-- x19: double (nullable = true)\n",
      " |-- x20: double (nullable = true)\n",
      " |-- x21: double (nullable = true)\n",
      " |-- x22: double (nullable = true)\n",
      " |-- x23: double (nullable = true)\n",
      " |-- x24: double (nullable = true)\n",
      " |-- x25: double (nullable = true)\n",
      " |-- x26: double (nullable = true)\n",
      " |-- x27: double (nullable = true)\n",
      " |-- x28: double (nullable = true)\n",
      " |-- x29: double (nullable = true)\n",
      " |-- x30: double (nullable = true)\n",
      " |-- x31: double (nullable = true)\n",
      " |-- x32: double (nullable = true)\n",
      " |-- x33: double (nullable = true)\n",
      " |-- x34: string (nullable = true)\n",
      " |-- x35: string (nullable = true)\n",
      " |-- x36: double (nullable = true)\n",
      " |-- x37: double (nullable = true)\n",
      " |-- x38: double (nullable = true)\n",
      " |-- x39: double (nullable = true)\n",
      " |-- x40: double (nullable = true)\n",
      " |-- x41: string (nullable = true)\n",
      " |-- x42: double (nullable = true)\n",
      " |-- x43: double (nullable = true)\n",
      " |-- x44: double (nullable = true)\n",
      " |-- x45: string (nullable = true)\n",
      " |-- x46: double (nullable = true)\n",
      " |-- x47: double (nullable = true)\n",
      " |-- x48: double (nullable = true)\n",
      " |-- x49: double (nullable = true)\n",
      " |-- x50: double (nullable = true)\n",
      " |-- x51: double (nullable = true)\n",
      " |-- x52: double (nullable = true)\n",
      " |-- x53: double (nullable = true)\n",
      " |-- x54: double (nullable = true)\n",
      " |-- x55: double (nullable = true)\n",
      " |-- x56: double (nullable = true)\n",
      " |-- x57: double (nullable = true)\n",
      " |-- x58: double (nullable = true)\n",
      " |-- x59: double (nullable = true)\n",
      " |-- x60: double (nullable = true)\n",
      " |-- x61: double (nullable = true)\n",
      " |-- x62: double (nullable = true)\n",
      " |-- x63: double (nullable = true)\n",
      " |-- x64: double (nullable = true)\n",
      " |-- x65: double (nullable = true)\n",
      " |-- x66: double (nullable = true)\n",
      " |-- x67: double (nullable = true)\n",
      " |-- x68: string (nullable = true)\n",
      " |-- x69: double (nullable = true)\n",
      " |-- x70: double (nullable = true)\n",
      " |-- x71: double (nullable = true)\n",
      " |-- x72: double (nullable = true)\n",
      " |-- x73: double (nullable = true)\n",
      " |-- x74: double (nullable = true)\n",
      " |-- x75: double (nullable = true)\n",
      " |-- x76: double (nullable = true)\n",
      " |-- x77: double (nullable = true)\n",
      " |-- x78: double (nullable = true)\n",
      " |-- x79: double (nullable = true)\n",
      " |-- x80: double (nullable = true)\n",
      " |-- x81: double (nullable = true)\n",
      " |-- x82: double (nullable = true)\n",
      " |-- x83: double (nullable = true)\n",
      " |-- x84: double (nullable = true)\n",
      " |-- x85: double (nullable = true)\n",
      " |-- x86: double (nullable = true)\n",
      " |-- x87: double (nullable = true)\n",
      " |-- x88: double (nullable = true)\n",
      " |-- x89: double (nullable = true)\n",
      " |-- x90: double (nullable = true)\n",
      " |-- x91: double (nullable = true)\n",
      " |-- x92: double (nullable = true)\n",
      " |-- x93: string (nullable = true)\n",
      " |-- x94: double (nullable = true)\n",
      " |-- x95: double (nullable = true)\n",
      " |-- x96: double (nullable = true)\n",
      " |-- x97: double (nullable = true)\n",
      " |-- x98: double (nullable = true)\n",
      " |-- x99: double (nullable = true)\n",
      " |-- y: integer (nullable = true)\n",
      "\n"
     ]
    }
   ],
   "source": [
    "df.printSchema()"
   ]
  },
  {
   "cell_type": "code",
   "execution_count": 5,
   "metadata": {},
   "outputs": [],
   "source": [
    "# for x in range(0, len(df.columns)):\n",
    "#     df.select(df.columns[x]).describe().show()"
   ]
  },
  {
   "cell_type": "code",
   "execution_count": 6,
   "metadata": {},
   "outputs": [
    {
     "name": "stdout",
     "output_type": "stream",
     "text": [
      "+----------+---------+--------+------+----+----+\n",
      "|       x34|      x35|     x41|   x45| x68| x93|\n",
      "+----------+---------+--------+------+----+----+\n",
      "|     Honda|      wed| $229.47|  0.0%|July|asia|\n",
      "|     Honda|wednesday|  $213.9| -0.0%| Jun|asia|\n",
      "|volkswagon|  thurday|$2207.13|-0.02%| Aug|asia|\n",
      "|volkswagon|  thurday|  $82.09| -0.0%|July|asia|\n",
      "|      ford|  thurday| $273.61| 0.01%|July|asia|\n",
      "+----------+---------+--------+------+----+----+\n",
      "only showing top 5 rows\n",
      "\n"
     ]
    }
   ],
   "source": [
    "categorical = [typ[0] for typ in df.dtypes if typ[1] == 'string']\n",
    "df.select(categorical).show(5)"
   ]
  },
  {
   "cell_type": "code",
   "execution_count": 7,
   "metadata": {},
   "outputs": [
    {
     "name": "stdout",
     "output_type": "stream",
     "text": [
      "+-------+----+\n",
      "|    x41| x45|\n",
      "+-------+----+\n",
      "| 229.47| 0.0|\n",
      "|  213.9| 0.0|\n",
      "|2207.13|0.02|\n",
      "|  82.09| 0.0|\n",
      "| 273.61|0.01|\n",
      "| 439.68| 0.0|\n",
      "| 152.64|0.02|\n",
      "| 847.13|0.02|\n",
      "| 235.98| 0.0|\n",
      "| 550.02|0.01|\n",
      "+-------+----+\n",
      "only showing top 10 rows\n",
      "\n"
     ]
    }
   ],
   "source": [
    "df = df.withColumn('x41', regexp_replace('x41', '[^\\\\d.]', '').cast(DoubleType()))\n",
    "df = df.withColumn('x45', regexp_replace('x45', '[^\\\\d.]', '').cast(DoubleType()))\n",
    "df.select(['x41', 'x45']).show(10)"
   ]
  },
  {
   "cell_type": "code",
   "execution_count": 8,
   "metadata": {},
   "outputs": [
    {
     "name": "stdout",
     "output_type": "stream",
     "text": [
      "+----------+-----+\n",
      "|       x34|count|\n",
      "+----------+-----+\n",
      "|      null|    7|\n",
      "|volkswagon|12610|\n",
      "|     Honda| 5176|\n",
      "|     tesla| 2248|\n",
      "|       bmw| 7306|\n",
      "|      ford|  168|\n",
      "|  mercades|   29|\n",
      "| chevrolet|   12|\n",
      "|    nissan|  342|\n",
      "|    Toyota|10884|\n",
      "| chrystler| 1218|\n",
      "+----------+-----+\n",
      "\n"
     ]
    }
   ],
   "source": [
    "df.groupBy('x34').count().show()"
   ]
  },
  {
   "cell_type": "code",
   "execution_count": 9,
   "metadata": {},
   "outputs": [
    {
     "name": "stdout",
     "output_type": "stream",
     "text": [
      "+---------+-----+\n",
      "|      x35|count|\n",
      "+---------+-----+\n",
      "|      fri|   26|\n",
      "|     null|    9|\n",
      "|     thur| 4405|\n",
      "|   monday|   66|\n",
      "|      wed|14775|\n",
      "|wednesday| 5938|\n",
      "|   friday|  521|\n",
      "|  tuesday|  882|\n",
      "|  thurday|13378|\n",
      "+---------+-----+\n",
      "\n"
     ]
    }
   ],
   "source": [
    "df.groupBy('x35').count().show()"
   ]
  },
  {
   "cell_type": "code",
   "execution_count": 10,
   "metadata": {},
   "outputs": [
    {
     "name": "stdout",
     "output_type": "stream",
     "text": [
      "+---------+-----+\n",
      "|      x35|count|\n",
      "+---------+-----+\n",
      "|     null|    9|\n",
      "| thursday|17783|\n",
      "|   monday|   66|\n",
      "|wednesday|20713|\n",
      "|   friday|  547|\n",
      "|  tuesday|  882|\n",
      "+---------+-----+\n",
      "\n"
     ]
    }
   ],
   "source": [
    "fix_days_udf = udf(lambda x: 'wednesday' if x == 'wed' else('thursday' if x == 'thur' or x == 'thurday' else('friday' if x == 'fri' else x)))\n",
    "\n",
    "df = df.withColumn('x35', fix_days_udf('x35'))\n",
    "\n",
    "df.groupBy('x35').count().show()"
   ]
  },
  {
   "cell_type": "code",
   "execution_count": 11,
   "metadata": {
    "scrolled": true
   },
   "outputs": [
    {
     "name": "stdout",
     "output_type": "stream",
     "text": [
      "+----+-----+\n",
      "| x68|count|\n",
      "+----+-----+\n",
      "| Oct|  910|\n",
      "| Sep| 3514|\n",
      "| Dec|   21|\n",
      "|null|   10|\n",
      "| Aug| 8173|\n",
      "| May| 4801|\n",
      "| Jun| 9256|\n",
      "| Feb|   47|\n",
      "| Nov|  150|\n",
      "| Mar|  414|\n",
      "| Jan|   11|\n",
      "| Apr| 1640|\n",
      "| Jul|11053|\n",
      "+----+-----+\n",
      "\n"
     ]
    }
   ],
   "source": [
    "fix_months_udf = udf(lambda x: 'Jan' if x == 'January' else('Jul' if x == 'July' else('Sep' if x == 'sept.' else('Dec' if x == 'Dev' else x))))\n",
    "\n",
    "df = df.withColumn('x68', fix_months_udf('x68'))\n",
    "\n",
    "df.groupBy('x68').count().show()"
   ]
  },
  {
   "cell_type": "code",
   "execution_count": 12,
   "metadata": {},
   "outputs": [
    {
     "name": "stdout",
     "output_type": "stream",
     "text": [
      "root\n",
      " |-- x0: double (nullable = true)\n",
      " |-- x1: double (nullable = true)\n",
      " |-- x2: double (nullable = true)\n",
      " |-- x3: double (nullable = true)\n",
      " |-- x4: double (nullable = true)\n",
      " |-- x5: double (nullable = true)\n",
      " |-- x6: double (nullable = true)\n",
      " |-- x7: double (nullable = true)\n",
      " |-- x8: double (nullable = true)\n",
      " |-- x9: double (nullable = true)\n",
      " |-- x10: double (nullable = true)\n",
      " |-- x11: double (nullable = true)\n",
      " |-- x12: double (nullable = true)\n",
      " |-- x13: double (nullable = true)\n",
      " |-- x14: double (nullable = true)\n",
      " |-- x15: double (nullable = true)\n",
      " |-- x16: double (nullable = true)\n",
      " |-- x17: double (nullable = true)\n",
      " |-- x18: double (nullable = true)\n",
      " |-- x19: double (nullable = true)\n",
      " |-- x20: double (nullable = true)\n",
      " |-- x21: double (nullable = true)\n",
      " |-- x22: double (nullable = true)\n",
      " |-- x23: double (nullable = true)\n",
      " |-- x24: double (nullable = true)\n",
      " |-- x25: double (nullable = true)\n",
      " |-- x26: double (nullable = true)\n",
      " |-- x27: double (nullable = true)\n",
      " |-- x28: double (nullable = true)\n",
      " |-- x29: double (nullable = true)\n",
      " |-- x30: double (nullable = true)\n",
      " |-- x31: double (nullable = true)\n",
      " |-- x32: double (nullable = true)\n",
      " |-- x33: double (nullable = true)\n",
      " |-- x34: string (nullable = true)\n",
      " |-- x35: string (nullable = true)\n",
      " |-- x36: double (nullable = true)\n",
      " |-- x37: double (nullable = true)\n",
      " |-- x38: double (nullable = true)\n",
      " |-- x39: double (nullable = true)\n",
      " |-- x40: double (nullable = true)\n",
      " |-- x41: double (nullable = true)\n",
      " |-- x42: double (nullable = true)\n",
      " |-- x43: double (nullable = true)\n",
      " |-- x44: double (nullable = true)\n",
      " |-- x45: double (nullable = true)\n",
      " |-- x46: double (nullable = true)\n",
      " |-- x47: double (nullable = true)\n",
      " |-- x48: double (nullable = true)\n",
      " |-- x49: double (nullable = true)\n",
      " |-- x50: double (nullable = true)\n",
      " |-- x51: double (nullable = true)\n",
      " |-- x52: double (nullable = true)\n",
      " |-- x53: double (nullable = true)\n",
      " |-- x54: double (nullable = true)\n",
      " |-- x55: double (nullable = true)\n",
      " |-- x56: double (nullable = true)\n",
      " |-- x57: double (nullable = true)\n",
      " |-- x58: double (nullable = true)\n",
      " |-- x59: double (nullable = true)\n",
      " |-- x60: double (nullable = true)\n",
      " |-- x61: double (nullable = true)\n",
      " |-- x62: double (nullable = true)\n",
      " |-- x63: double (nullable = true)\n",
      " |-- x64: double (nullable = true)\n",
      " |-- x65: double (nullable = true)\n",
      " |-- x66: double (nullable = true)\n",
      " |-- x67: double (nullable = true)\n",
      " |-- x68: string (nullable = true)\n",
      " |-- x69: double (nullable = true)\n",
      " |-- x70: double (nullable = true)\n",
      " |-- x71: double (nullable = true)\n",
      " |-- x72: double (nullable = true)\n",
      " |-- x73: double (nullable = true)\n",
      " |-- x74: double (nullable = true)\n",
      " |-- x75: double (nullable = true)\n",
      " |-- x76: double (nullable = true)\n",
      " |-- x77: double (nullable = true)\n",
      " |-- x78: double (nullable = true)\n",
      " |-- x79: double (nullable = true)\n",
      " |-- x80: double (nullable = true)\n",
      " |-- x81: double (nullable = true)\n",
      " |-- x82: double (nullable = true)\n",
      " |-- x83: double (nullable = true)\n",
      " |-- x84: double (nullable = true)\n",
      " |-- x85: double (nullable = true)\n",
      " |-- x86: double (nullable = true)\n",
      " |-- x87: double (nullable = true)\n",
      " |-- x88: double (nullable = true)\n",
      " |-- x89: double (nullable = true)\n",
      " |-- x90: double (nullable = true)\n",
      " |-- x91: double (nullable = true)\n",
      " |-- x92: double (nullable = true)\n",
      " |-- x93: string (nullable = true)\n",
      " |-- x94: double (nullable = true)\n",
      " |-- x95: double (nullable = true)\n",
      " |-- x96: double (nullable = true)\n",
      " |-- x97: double (nullable = true)\n",
      " |-- x98: double (nullable = true)\n",
      " |-- x99: double (nullable = true)\n",
      " |-- y: integer (nullable = true)\n",
      "\n"
     ]
    }
   ],
   "source": [
    "df.printSchema()"
   ]
  },
  {
   "cell_type": "code",
   "execution_count": 13,
   "metadata": {},
   "outputs": [],
   "source": [
    "numeric = [typ[0] for typ in df.dtypes if typ[1] == 'double']\n",
    "\n",
    "imputer = Imputer(\n",
    "    inputCols=df.select(numeric).columns, \n",
    "    outputCols=df.select(numeric).columns)\\\n",
    ".setStrategy('mean')\n",
    "\n",
    "df = imputer.fit(df).transform(df)"
   ]
  },
  {
   "cell_type": "code",
   "execution_count": 14,
   "metadata": {},
   "outputs": [
    {
     "name": "stdout",
     "output_type": "stream",
     "text": [
      "+-------+-----------------+\n",
      "|summary|              x41|\n",
      "+-------+-----------------+\n",
      "|  count|            40000|\n",
      "|   mean|794.7110191528724|\n",
      "| stddev|602.3889626035261|\n",
      "|    min|             0.01|\n",
      "|    max|          4496.46|\n",
      "+-------+-----------------+\n",
      "\n"
     ]
    }
   ],
   "source": [
    "df.select('x41').describe().show()"
   ]
  },
  {
   "cell_type": "code",
   "execution_count": 15,
   "metadata": {},
   "outputs": [
    {
     "name": "stdout",
     "output_type": "stream",
     "text": [
      "+---+-----+\n",
      "|x68|count|\n",
      "+---+-----+\n",
      "|Oct|  910|\n",
      "|Sep| 3514|\n",
      "|Dec|   21|\n",
      "|Aug| 8173|\n",
      "|May| 4801|\n",
      "|Jun| 9256|\n",
      "|Feb|   47|\n",
      "|Nov|  150|\n",
      "|Mar|  414|\n",
      "|Jan|   11|\n",
      "|Apr| 1640|\n",
      "|Jul|11063|\n",
      "+---+-----+\n",
      "\n"
     ]
    }
   ],
   "source": [
    "new_cat = [typ[0] for typ in df.dtypes if typ[1] == 'string']\n",
    "\n",
    "for colu in df.select(new_cat).columns:\n",
    "    mode = df.groupBy(colu).count().sort(desc('count')).first()[0]\n",
    "    df = df.fillna({colu : mode})\n",
    "    categ = df.select(colu).distinct().rdd.flatMap(lambda x:x).collect()\n",
    "    exprs = [when(col(colu) == cat,1).otherwise(0)\\\n",
    "            .alias(str(cat)) for cat in categ]\n",
    "    df = df.select(exprs+df.columns)\n",
    "\n",
    "df.groupBy('x68').count().show()"
   ]
  },
  {
   "cell_type": "code",
   "execution_count": 16,
   "metadata": {},
   "outputs": [
    {
     "name": "stdout",
     "output_type": "stream",
     "text": [
      "root\n",
      " |-- america: integer (nullable = false)\n",
      " |-- euorpe: integer (nullable = false)\n",
      " |-- asia: integer (nullable = false)\n",
      " |-- Oct: integer (nullable = false)\n",
      " |-- Sep: integer (nullable = false)\n",
      " |-- Dec: integer (nullable = false)\n",
      " |-- Aug: integer (nullable = false)\n",
      " |-- May: integer (nullable = false)\n",
      " |-- Jun: integer (nullable = false)\n",
      " |-- Feb: integer (nullable = false)\n",
      " |-- Nov: integer (nullable = false)\n",
      " |-- Mar: integer (nullable = false)\n",
      " |-- Jan: integer (nullable = false)\n",
      " |-- Apr: integer (nullable = false)\n",
      " |-- Jul: integer (nullable = false)\n",
      " |-- thursday: integer (nullable = false)\n",
      " |-- monday: integer (nullable = false)\n",
      " |-- wednesday: integer (nullable = false)\n",
      " |-- friday: integer (nullable = false)\n",
      " |-- tuesday: integer (nullable = false)\n",
      " |-- volkswagon: integer (nullable = false)\n",
      " |-- Honda: integer (nullable = false)\n",
      " |-- tesla: integer (nullable = false)\n",
      " |-- bmw: integer (nullable = false)\n",
      " |-- ford: integer (nullable = false)\n",
      " |-- mercades: integer (nullable = false)\n",
      " |-- chevrolet: integer (nullable = false)\n",
      " |-- nissan: integer (nullable = false)\n",
      " |-- Toyota: integer (nullable = false)\n",
      " |-- chrystler: integer (nullable = false)\n",
      " |-- x0: double (nullable = true)\n",
      " |-- x1: double (nullable = true)\n",
      " |-- x2: double (nullable = true)\n",
      " |-- x3: double (nullable = true)\n",
      " |-- x4: double (nullable = true)\n",
      " |-- x5: double (nullable = true)\n",
      " |-- x6: double (nullable = true)\n",
      " |-- x7: double (nullable = true)\n",
      " |-- x8: double (nullable = true)\n",
      " |-- x9: double (nullable = true)\n",
      " |-- x10: double (nullable = true)\n",
      " |-- x11: double (nullable = true)\n",
      " |-- x12: double (nullable = true)\n",
      " |-- x13: double (nullable = true)\n",
      " |-- x14: double (nullable = true)\n",
      " |-- x15: double (nullable = true)\n",
      " |-- x16: double (nullable = true)\n",
      " |-- x17: double (nullable = true)\n",
      " |-- x18: double (nullable = true)\n",
      " |-- x19: double (nullable = true)\n",
      " |-- x20: double (nullable = true)\n",
      " |-- x21: double (nullable = true)\n",
      " |-- x22: double (nullable = true)\n",
      " |-- x23: double (nullable = true)\n",
      " |-- x24: double (nullable = true)\n",
      " |-- x25: double (nullable = true)\n",
      " |-- x26: double (nullable = true)\n",
      " |-- x27: double (nullable = true)\n",
      " |-- x28: double (nullable = true)\n",
      " |-- x29: double (nullable = true)\n",
      " |-- x30: double (nullable = true)\n",
      " |-- x31: double (nullable = true)\n",
      " |-- x32: double (nullable = true)\n",
      " |-- x33: double (nullable = true)\n",
      " |-- x36: double (nullable = true)\n",
      " |-- x37: double (nullable = true)\n",
      " |-- x38: double (nullable = true)\n",
      " |-- x39: double (nullable = true)\n",
      " |-- x40: double (nullable = true)\n",
      " |-- x41: double (nullable = true)\n",
      " |-- x42: double (nullable = true)\n",
      " |-- x43: double (nullable = true)\n",
      " |-- x44: double (nullable = true)\n",
      " |-- x45: double (nullable = true)\n",
      " |-- x46: double (nullable = true)\n",
      " |-- x47: double (nullable = true)\n",
      " |-- x48: double (nullable = true)\n",
      " |-- x49: double (nullable = true)\n",
      " |-- x50: double (nullable = true)\n",
      " |-- x51: double (nullable = true)\n",
      " |-- x52: double (nullable = true)\n",
      " |-- x53: double (nullable = true)\n",
      " |-- x54: double (nullable = true)\n",
      " |-- x55: double (nullable = true)\n",
      " |-- x56: double (nullable = true)\n",
      " |-- x57: double (nullable = true)\n",
      " |-- x58: double (nullable = true)\n",
      " |-- x59: double (nullable = true)\n",
      " |-- x60: double (nullable = true)\n",
      " |-- x61: double (nullable = true)\n",
      " |-- x62: double (nullable = true)\n",
      " |-- x63: double (nullable = true)\n",
      " |-- x64: double (nullable = true)\n",
      " |-- x65: double (nullable = true)\n",
      " |-- x66: double (nullable = true)\n",
      " |-- x67: double (nullable = true)\n",
      " |-- x69: double (nullable = true)\n",
      " |-- x70: double (nullable = true)\n",
      " |-- x71: double (nullable = true)\n",
      " |-- x72: double (nullable = true)\n",
      " |-- x73: double (nullable = true)\n",
      " |-- x74: double (nullable = true)\n",
      " |-- x75: double (nullable = true)\n",
      " |-- x76: double (nullable = true)\n",
      " |-- x77: double (nullable = true)\n",
      " |-- x78: double (nullable = true)\n",
      " |-- x79: double (nullable = true)\n",
      " |-- x80: double (nullable = true)\n",
      " |-- x81: double (nullable = true)\n",
      " |-- x82: double (nullable = true)\n",
      " |-- x83: double (nullable = true)\n",
      " |-- x84: double (nullable = true)\n",
      " |-- x85: double (nullable = true)\n",
      " |-- x86: double (nullable = true)\n",
      " |-- x87: double (nullable = true)\n",
      " |-- x88: double (nullable = true)\n",
      " |-- x89: double (nullable = true)\n",
      " |-- x90: double (nullable = true)\n",
      " |-- x91: double (nullable = true)\n",
      " |-- x92: double (nullable = true)\n",
      " |-- x94: double (nullable = true)\n",
      " |-- x95: double (nullable = true)\n",
      " |-- x96: double (nullable = true)\n",
      " |-- x97: double (nullable = true)\n",
      " |-- x98: double (nullable = true)\n",
      " |-- x99: double (nullable = true)\n",
      " |-- y: integer (nullable = true)\n",
      "\n"
     ]
    }
   ],
   "source": [
    "df = df.select([typ[0] for typ in df.dtypes if typ[1] != 'string'])\n",
    "df.printSchema()"
   ]
  },
  {
   "cell_type": "code",
   "execution_count": 17,
   "metadata": {},
   "outputs": [
    {
     "name": "stdout",
     "output_type": "stream",
     "text": [
      "+-------+-----+\n",
      "|america|count|\n",
      "+-------+-----+\n",
      "|      1| 3124|\n",
      "|      0|36876|\n",
      "+-------+-----+\n",
      "\n"
     ]
    }
   ],
   "source": [
    "df.groupBy('america').count().show()"
   ]
  },
  {
   "cell_type": "code",
   "execution_count": 18,
   "metadata": {},
   "outputs": [
    {
     "name": "stdout",
     "output_type": "stream",
     "text": [
      "root\n",
      " |-- america: double (nullable = false)\n",
      " |-- euorpe: double (nullable = false)\n",
      " |-- asia: double (nullable = false)\n",
      " |-- Oct: double (nullable = false)\n",
      " |-- Sep: double (nullable = false)\n",
      " |-- Dec: double (nullable = false)\n",
      " |-- Aug: double (nullable = false)\n",
      " |-- May: double (nullable = false)\n",
      " |-- Jun: double (nullable = false)\n",
      " |-- Feb: double (nullable = false)\n",
      " |-- Nov: double (nullable = false)\n",
      " |-- Mar: double (nullable = false)\n",
      " |-- Jan: double (nullable = false)\n",
      " |-- Apr: double (nullable = false)\n",
      " |-- Jul: double (nullable = false)\n",
      " |-- thursday: double (nullable = false)\n",
      " |-- monday: double (nullable = false)\n",
      " |-- wednesday: double (nullable = false)\n",
      " |-- friday: double (nullable = false)\n",
      " |-- tuesday: double (nullable = false)\n",
      " |-- volkswagon: double (nullable = false)\n",
      " |-- Honda: double (nullable = false)\n",
      " |-- tesla: double (nullable = false)\n",
      " |-- bmw: double (nullable = false)\n",
      " |-- ford: double (nullable = false)\n",
      " |-- mercades: double (nullable = false)\n",
      " |-- chevrolet: double (nullable = false)\n",
      " |-- nissan: double (nullable = false)\n",
      " |-- Toyota: double (nullable = false)\n",
      " |-- chrystler: double (nullable = false)\n",
      " |-- x0: double (nullable = true)\n",
      " |-- x1: double (nullable = true)\n",
      " |-- x2: double (nullable = true)\n",
      " |-- x3: double (nullable = true)\n",
      " |-- x4: double (nullable = true)\n",
      " |-- x5: double (nullable = true)\n",
      " |-- x6: double (nullable = true)\n",
      " |-- x7: double (nullable = true)\n",
      " |-- x8: double (nullable = true)\n",
      " |-- x9: double (nullable = true)\n",
      " |-- x10: double (nullable = true)\n",
      " |-- x11: double (nullable = true)\n",
      " |-- x12: double (nullable = true)\n",
      " |-- x13: double (nullable = true)\n",
      " |-- x14: double (nullable = true)\n",
      " |-- x15: double (nullable = true)\n",
      " |-- x16: double (nullable = true)\n",
      " |-- x17: double (nullable = true)\n",
      " |-- x18: double (nullable = true)\n",
      " |-- x19: double (nullable = true)\n",
      " |-- x20: double (nullable = true)\n",
      " |-- x21: double (nullable = true)\n",
      " |-- x22: double (nullable = true)\n",
      " |-- x23: double (nullable = true)\n",
      " |-- x24: double (nullable = true)\n",
      " |-- x25: double (nullable = true)\n",
      " |-- x26: double (nullable = true)\n",
      " |-- x27: double (nullable = true)\n",
      " |-- x28: double (nullable = true)\n",
      " |-- x29: double (nullable = true)\n",
      " |-- x30: double (nullable = true)\n",
      " |-- x31: double (nullable = true)\n",
      " |-- x32: double (nullable = true)\n",
      " |-- x33: double (nullable = true)\n",
      " |-- x36: double (nullable = true)\n",
      " |-- x37: double (nullable = true)\n",
      " |-- x38: double (nullable = true)\n",
      " |-- x39: double (nullable = true)\n",
      " |-- x40: double (nullable = true)\n",
      " |-- x41: double (nullable = true)\n",
      " |-- x42: double (nullable = true)\n",
      " |-- x43: double (nullable = true)\n",
      " |-- x44: double (nullable = true)\n",
      " |-- x45: double (nullable = true)\n",
      " |-- x46: double (nullable = true)\n",
      " |-- x47: double (nullable = true)\n",
      " |-- x48: double (nullable = true)\n",
      " |-- x49: double (nullable = true)\n",
      " |-- x50: double (nullable = true)\n",
      " |-- x51: double (nullable = true)\n",
      " |-- x52: double (nullable = true)\n",
      " |-- x53: double (nullable = true)\n",
      " |-- x54: double (nullable = true)\n",
      " |-- x55: double (nullable = true)\n",
      " |-- x56: double (nullable = true)\n",
      " |-- x57: double (nullable = true)\n",
      " |-- x58: double (nullable = true)\n",
      " |-- x59: double (nullable = true)\n",
      " |-- x60: double (nullable = true)\n",
      " |-- x61: double (nullable = true)\n",
      " |-- x62: double (nullable = true)\n",
      " |-- x63: double (nullable = true)\n",
      " |-- x64: double (nullable = true)\n",
      " |-- x65: double (nullable = true)\n",
      " |-- x66: double (nullable = true)\n",
      " |-- x67: double (nullable = true)\n",
      " |-- x69: double (nullable = true)\n",
      " |-- x70: double (nullable = true)\n",
      " |-- x71: double (nullable = true)\n",
      " |-- x72: double (nullable = true)\n",
      " |-- x73: double (nullable = true)\n",
      " |-- x74: double (nullable = true)\n",
      " |-- x75: double (nullable = true)\n",
      " |-- x76: double (nullable = true)\n",
      " |-- x77: double (nullable = true)\n",
      " |-- x78: double (nullable = true)\n",
      " |-- x79: double (nullable = true)\n",
      " |-- x80: double (nullable = true)\n",
      " |-- x81: double (nullable = true)\n",
      " |-- x82: double (nullable = true)\n",
      " |-- x83: double (nullable = true)\n",
      " |-- x84: double (nullable = true)\n",
      " |-- x85: double (nullable = true)\n",
      " |-- x86: double (nullable = true)\n",
      " |-- x87: double (nullable = true)\n",
      " |-- x88: double (nullable = true)\n",
      " |-- x89: double (nullable = true)\n",
      " |-- x90: double (nullable = true)\n",
      " |-- x91: double (nullable = true)\n",
      " |-- x92: double (nullable = true)\n",
      " |-- x94: double (nullable = true)\n",
      " |-- x95: double (nullable = true)\n",
      " |-- x96: double (nullable = true)\n",
      " |-- x97: double (nullable = true)\n",
      " |-- x98: double (nullable = true)\n",
      " |-- x99: double (nullable = true)\n",
      " |-- y: double (nullable = true)\n",
      "\n"
     ]
    }
   ],
   "source": [
    "df = df.select(*(col(colu).cast(\"double\").alias(colu) for colu in df.columns))\n",
    "\n",
    "df.printSchema()"
   ]
  },
  {
   "cell_type": "code",
   "execution_count": 19,
   "metadata": {},
   "outputs": [],
   "source": [
    "# for x in range(0, len(df.columns)):\n",
    "#     df.select(df.columns[x]).describe().show()"
   ]
  },
  {
   "cell_type": "code",
   "execution_count": 20,
   "metadata": {},
   "outputs": [],
   "source": [
    "vecAssembler = VectorAssembler(inputCols=df.columns, outputCol=\"features\")\n",
    "output = vecAssembler.transform(df)"
   ]
  },
  {
   "cell_type": "code",
   "execution_count": 21,
   "metadata": {},
   "outputs": [],
   "source": [
    "corr_mat = Correlation.corr(output, 'features').collect()[0][0]\n",
    "\n"
   ]
  },
  {
   "cell_type": "code",
   "execution_count": 22,
   "metadata": {},
   "outputs": [
    {
     "data": {
      "text/plain": [
       "array([[ 1.00000000e+00, -5.60030441e-02, -8.12228738e-01, ...,\n",
       "         4.40045761e-03,  8.44023189e-03,  6.10716516e-03],\n",
       "       [-5.60030441e-02,  1.00000000e+00, -5.36936301e-01, ...,\n",
       "        -2.94572922e-03,  1.29273254e-03, -2.93260220e-03],\n",
       "       [-8.12228738e-01, -5.36936301e-01,  1.00000000e+00, ...,\n",
       "        -1.99710161e-03, -7.88685101e-03, -3.44685174e-03],\n",
       "       ...,\n",
       "       [ 4.40045761e-03, -2.94572922e-03, -1.99710161e-03, ...,\n",
       "         1.00000000e+00, -2.14360483e-04,  8.21869636e-03],\n",
       "       [ 8.44023189e-03,  1.29273254e-03, -7.88685101e-03, ...,\n",
       "        -2.14360483e-04,  1.00000000e+00,  9.51788100e-02],\n",
       "       [ 6.10716516e-03, -2.93260220e-03, -3.44685174e-03, ...,\n",
       "         8.21869636e-03,  9.51788100e-02,  1.00000000e+00]])"
      ]
     },
     "execution_count": 22,
     "metadata": {},
     "output_type": "execute_result"
    }
   ],
   "source": [
    "corr_mat.toArray()"
   ]
  },
  {
   "cell_type": "code",
   "execution_count": 58,
   "metadata": {},
   "outputs": [],
   "source": [
    "lr_df = df.withColumnRenamed('y', 'label')\n",
    "\n",
    "vecAssembler2 = VectorAssembler(inputCols=[colu for colu in lr_df.columns if colu != 'y'], outputCol=\"features\")\n",
    "lr_df = vecAssembler2.transform(lr_df)\n",
    "\n",
    "train, test = lr_df.randomSplit([0.7, 0.3], seed = 2018)"
   ]
  },
  {
   "cell_type": "code",
   "execution_count": 45,
   "metadata": {},
   "outputs": [],
   "source": [
    "lrModel = LogisticRegression(maxIter=100, regParam=0.1, elasticNetParam=0.8)"
   ]
  },
  {
   "cell_type": "code",
   "execution_count": 46,
   "metadata": {},
   "outputs": [],
   "source": [
    "lrModel = lrModel.fit(train)"
   ]
  },
  {
   "cell_type": "code",
   "execution_count": 47,
   "metadata": {},
   "outputs": [],
   "source": [
    "trainingSummary = lrModel.summary"
   ]
  },
  {
   "cell_type": "code",
   "execution_count": 48,
   "metadata": {},
   "outputs": [
    {
     "data": {
      "text/plain": [
       "1.0"
      ]
     },
     "execution_count": 48,
     "metadata": {},
     "output_type": "execute_result"
    }
   ],
   "source": [
    "trainingSummary.areaUnderROC"
   ]
  },
  {
   "cell_type": "code",
   "execution_count": 49,
   "metadata": {},
   "outputs": [
    {
     "data": {
      "text/plain": [
       "1.0"
      ]
     },
     "execution_count": 49,
     "metadata": {},
     "output_type": "execute_result"
    }
   ],
   "source": [
    "trainingSummary.accuracy"
   ]
  },
  {
   "cell_type": "code",
   "execution_count": 50,
   "metadata": {},
   "outputs": [
    {
     "name": "stdout",
     "output_type": "stream",
     "text": [
      "+------+---------+\n",
      "|recall|precision|\n",
      "+------+---------+\n",
      "|   0.0|      1.0|\n",
      "|   1.0|      1.0|\n",
      "|   1.0|   0.2022|\n",
      "+------+---------+\n",
      "\n"
     ]
    }
   ],
   "source": [
    "trainingSummary.pr.show()"
   ]
  },
  {
   "cell_type": "code",
   "execution_count": 51,
   "metadata": {},
   "outputs": [
    {
     "data": {
      "text/plain": [
       "[1.0, 1.0]"
      ]
     },
     "execution_count": 51,
     "metadata": {},
     "output_type": "execute_result"
    }
   ],
   "source": [
    "trainingSummary.precisionByLabel"
   ]
  },
  {
   "cell_type": "code",
   "execution_count": 52,
   "metadata": {},
   "outputs": [
    {
     "data": {
      "text/plain": [
       "[1.0, 1.0]"
      ]
     },
     "execution_count": 52,
     "metadata": {},
     "output_type": "execute_result"
    }
   ],
   "source": [
    "trainingSummary.recallByLabel"
   ]
  },
  {
   "cell_type": "code",
   "execution_count": 53,
   "metadata": {},
   "outputs": [
    {
     "data": {
      "text/plain": [
       "[1.0, 1.0]"
      ]
     },
     "execution_count": 53,
     "metadata": {},
     "output_type": "execute_result"
    }
   ],
   "source": [
    "trainingSummary.truePositiveRateByLabel"
   ]
  },
  {
   "cell_type": "code",
   "execution_count": 54,
   "metadata": {},
   "outputs": [
    {
     "data": {
      "text/plain": [
       "0.776361666339292"
      ]
     },
     "execution_count": 54,
     "metadata": {},
     "output_type": "execute_result"
    }
   ],
   "source": [
    "fMeasure = trainingSummary.fMeasureByThreshold\n",
    "maxFMeasure = fMeasure.groupBy().max('F-Measure').select('max(F-Measure)').head()\n",
    "\n",
    "fMeasure.where(fMeasure['F-Measure'] == maxFMeasure['max(F-Measure)']) \\\n",
    "    .select('threshold').head()['threshold']"
   ]
  },
  {
   "cell_type": "code",
   "execution_count": 64,
   "metadata": {},
   "outputs": [
    {
     "data": {
      "text/plain": [
       "[<matplotlib.lines.Line2D at 0x7f822eab7860>]"
      ]
     },
     "execution_count": 64,
     "metadata": {},
     "output_type": "execute_result"
    },
    {
     "data": {
      "image/png": "[encoded data removed]",
      "text/plain": [
       "<Figure size 432x288 with 1 Axes>"
      ]
     },
     "metadata": {
      "needs_background": "light"
     },
     "output_type": "display_data"
    }
   ],
   "source": [
    "roc = trainingSummary.roc.toPandas()\n",
    "\n",
    "plt.plot(roc['FPR'],roc['TPR'])"
   ]
  },
  {
   "cell_type": "code",
   "execution_count": 66,
   "metadata": {},
   "outputs": [
    {
     "data": {
      "text/plain": [
       "1.0"
      ]
     },
     "execution_count": 66,
     "metadata": {},
     "output_type": "execute_result"
    }
   ],
   "source": [
    "predictions = lrModel.transform(test)\n",
    "evaluator = BinaryClassificationEvaluator()\n",
    "evaluator.evaluate(predictions)"
   ]
  },
  {
   "cell_type": "code",
   "execution_count": null,
   "metadata": {},
   "outputs": [],
   "source": []
  }
 ],
 "metadata": {
  "kernelspec": {
   "display_name": "Python 3",
   "language": "python",
   "name": "python3"
  },
  "language_info": {
   "codemirror_mode": {
    "name": "ipython",
    "version": 3
   },
   "file_extension": ".py",
   "mimetype": "text/x-python",
   "name": "python",
   "nbconvert_exporter": "python",
   "pygments_lexer": "ipython3",
   "version": "3.7.1"
  }
 },
 "nbformat": 4,
 "nbformat_minor": 2
}
