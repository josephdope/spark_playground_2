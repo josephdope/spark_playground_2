{
 "cells": [
  {
   "cell_type": "code",
   "execution_count": 86,
   "metadata": {},
   "outputs": [],
   "source": [
    "import pandas as pd\n",
    "import matplotlib.pyplot as plt\n",
    "from pyspark import SparkConf, SparkContext\n",
    "from pyspark.sql import SparkSession\n",
    "from pyspark.ml.stat import Correlation\n",
    "from pyspark.ml.feature import VectorAssembler, StringIndexer, Imputer, OneHotEncoderEstimator\n",
    "from pyspark.sql.functions import corr, udf, regexp_replace, desc, col, when, concat, asc\n",
    "from pyspark.sql.types import DoubleType, FloatType\n",
    "from pyspark.ml.classification import LogisticRegression\n",
    "from pyspark.ml.evaluation import BinaryClassificationEvaluator\n"
   ]
  },
  {
   "cell_type": "code",
   "execution_count": 2,
   "metadata": {},
   "outputs": [],
   "source": [
    "spark = SparkSession.builder.master(\"local[4]\").appName(\"spg2\").getOrCreate()"
   ]
  },
  {
   "cell_type": "code",
   "execution_count": 3,
   "metadata": {},
   "outputs": [],
   "source": [
    "df = spark.read.format('csv').option('header', 'true').option('inferSchema', 'true').load('data/exercise_03_train.csv')"
   ]
  },
  {
   "cell_type": "code",
   "execution_count": 4,
   "metadata": {
    "scrolled": true
   },
   "outputs": [
    {
     "name": "stdout",
     "output_type": "stream",
     "text": [
      "root\n",
      " |-- x0: double (nullable = true)\n",
      " |-- x1: double (nullable = true)\n",
      " |-- x2: double (nullable = true)\n",
      " |-- x3: double (nullable = true)\n",
      " |-- x4: double (nullable = true)\n",
      " |-- x5: double (nullable = true)\n",
      " |-- x6: double (nullable = true)\n",
      " |-- x7: double (nullable = true)\n",
      " |-- x8: double (nullable = true)\n",
      " |-- x9: double (nullable = true)\n",
      " |-- x10: double (nullable = true)\n",
      " |-- x11: double (nullable = true)\n",
      " |-- x12: double (nullable = true)\n",
      " |-- x13: double (nullable = true)\n",
      " |-- x14: double (nullable = true)\n",
      " |-- x15: double (nullable = true)\n",
      " |-- x16: double (nullable = true)\n",
      " |-- x17: double (nullable = true)\n",
      " |-- x18: double (nullable = true)\n",
      " |-- x19: double (nullable = true)\n",
      " |-- x20: double (nullable = true)\n",
      " |-- x21: double (nullable = true)\n",
      " |-- x22: double (nullable = true)\n",
      " |-- x23: double (nullable = true)\n",
      " |-- x24: double (nullable = true)\n",
      " |-- x25: double (nullable = true)\n",
      " |-- x26: double (nullable = true)\n",
      " |-- x27: double (nullable = true)\n",
      " |-- x28: double (nullable = true)\n",
      " |-- x29: double (nullable = true)\n",
      " |-- x30: double (nullable = true)\n",
      " |-- x31: double (nullable = true)\n",
      " |-- x32: double (nullable = true)\n",
      " |-- x33: double (nullable = true)\n",
      " |-- x34: string (nullable = true)\n",
      " |-- x35: string (nullable = true)\n",
      " |-- x36: double (nullable = true)\n",
      " |-- x37: double (nullable = true)\n",
      " |-- x38: double (nullable = true)\n",
      " |-- x39: double (nullable = true)\n",
      " |-- x40: double (nullable = true)\n",
      " |-- x41: string (nullable = true)\n",
      " |-- x42: double (nullable = true)\n",
      " |-- x43: double (nullable = true)\n",
      " |-- x44: double (nullable = true)\n",
      " |-- x45: string (nullable = true)\n",
      " |-- x46: double (nullable = true)\n",
      " |-- x47: double (nullable = true)\n",
      " |-- x48: double (nullable = true)\n",
      " |-- x49: double (nullable = true)\n",
      " |-- x50: double (nullable = true)\n",
      " |-- x51: double (nullable = true)\n",
      " |-- x52: double (nullable = true)\n",
      " |-- x53: double (nullable = true)\n",
      " |-- x54: double (nullable = true)\n",
      " |-- x55: double (nullable = true)\n",
      " |-- x56: double (nullable = true)\n",
      " |-- x57: double (nullable = true)\n",
      " |-- x58: double (nullable = true)\n",
      " |-- x59: double (nullable = true)\n",
      " |-- x60: double (nullable = true)\n",
      " |-- x61: double (nullable = true)\n",
      " |-- x62: double (nullable = true)\n",
      " |-- x63: double (nullable = true)\n",
      " |-- x64: double (nullable = true)\n",
      " |-- x65: double (nullable = true)\n",
      " |-- x66: double (nullable = true)\n",
      " |-- x67: double (nullable = true)\n",
      " |-- x68: string (nullable = true)\n",
      " |-- x69: double (nullable = true)\n",
      " |-- x70: double (nullable = true)\n",
      " |-- x71: double (nullable = true)\n",
      " |-- x72: double (nullable = true)\n",
      " |-- x73: double (nullable = true)\n",
      " |-- x74: double (nullable = true)\n",
      " |-- x75: double (nullable = true)\n",
      " |-- x76: double (nullable = true)\n",
      " |-- x77: double (nullable = true)\n",
      " |-- x78: double (nullable = true)\n",
      " |-- x79: double (nullable = true)\n",
      " |-- x80: double (nullable = true)\n",
      " |-- x81: double (nullable = true)\n",
      " |-- x82: double (nullable = true)\n",
      " |-- x83: double (nullable = true)\n",
      " |-- x84: double (nullable = true)\n",
      " |-- x85: double (nullable = true)\n",
      " |-- x86: double (nullable = true)\n",
      " |-- x87: double (nullable = true)\n",
      " |-- x88: double (nullable = true)\n",
      " |-- x89: double (nullable = true)\n",
      " |-- x90: double (nullable = true)\n",
      " |-- x91: double (nullable = true)\n",
      " |-- x92: double (nullable = true)\n",
      " |-- x93: string (nullable = true)\n",
      " |-- x94: double (nullable = true)\n",
      " |-- x95: double (nullable = true)\n",
      " |-- x96: double (nullable = true)\n",
      " |-- x97: double (nullable = true)\n",
      " |-- x98: double (nullable = true)\n",
      " |-- x99: double (nullable = true)\n",
      " |-- y: integer (nullable = true)\n",
      "\n"
     ]
    }
   ],
   "source": [
    "df.printSchema()"
   ]
  },
  {
   "cell_type": "code",
   "execution_count": 5,
   "metadata": {},
   "outputs": [],
   "source": [
    "# for x in range(0, len(df.columns)):\n",
    "#     df.select(df.columns[x]).describe().show()"
   ]
  },
  {
   "cell_type": "code",
   "execution_count": 6,
   "metadata": {},
   "outputs": [
    {
     "name": "stdout",
     "output_type": "stream",
     "text": [
      "+----------+---------+--------+------+----+----+\n",
      "|       x34|      x35|     x41|   x45| x68| x93|\n",
      "+----------+---------+--------+------+----+----+\n",
      "|     Honda|      wed| $229.47|  0.0%|July|asia|\n",
      "|     Honda|wednesday|  $213.9| -0.0%| Jun|asia|\n",
      "|volkswagon|  thurday|$2207.13|-0.02%| Aug|asia|\n",
      "|volkswagon|  thurday|  $82.09| -0.0%|July|asia|\n",
      "|      ford|  thurday| $273.61| 0.01%|July|asia|\n",
      "+----------+---------+--------+------+----+----+\n",
      "only showing top 5 rows\n",
      "\n"
     ]
    }
   ],
   "source": [
    "categorical = [typ[0] for typ in df.dtypes if typ[1] == 'string']\n",
    "df.select(categorical).show(5)"
   ]
  },
  {
   "cell_type": "code",
   "execution_count": 7,
   "metadata": {},
   "outputs": [
    {
     "name": "stdout",
     "output_type": "stream",
     "text": [
      "+-------+----+\n",
      "|    x41| x45|\n",
      "+-------+----+\n",
      "| 229.47| 0.0|\n",
      "|  213.9| 0.0|\n",
      "|2207.13|0.02|\n",
      "|  82.09| 0.0|\n",
      "| 273.61|0.01|\n",
      "| 439.68| 0.0|\n",
      "| 152.64|0.02|\n",
      "| 847.13|0.02|\n",
      "| 235.98| 0.0|\n",
      "| 550.02|0.01|\n",
      "+-------+----+\n",
      "only showing top 10 rows\n",
      "\n"
     ]
    }
   ],
   "source": [
    "df = df.withColumn('x41', regexp_replace('x41', '[^\\\\d.]', '').cast(DoubleType()))\n",
    "df = df.withColumn('x45', regexp_replace('x45', '[^\\\\d.]', '').cast(DoubleType()))\n",
    "df.select(['x41', 'x45']).show(10)"
   ]
  },
  {
   "cell_type": "code",
   "execution_count": 8,
   "metadata": {},
   "outputs": [
    {
     "name": "stdout",
     "output_type": "stream",
     "text": [
      "+----------+-----+\n",
      "|       x34|count|\n",
      "+----------+-----+\n",
      "|      null|    7|\n",
      "|volkswagon|12610|\n",
      "|     Honda| 5176|\n",
      "|     tesla| 2248|\n",
      "|       bmw| 7306|\n",
      "|      ford|  168|\n",
      "|  mercades|   29|\n",
      "| chevrolet|   12|\n",
      "|    nissan|  342|\n",
      "|    Toyota|10884|\n",
      "| chrystler| 1218|\n",
      "+----------+-----+\n",
      "\n"
     ]
    }
   ],
   "source": [
    "df.groupBy('x34').count().show()"
   ]
  },
  {
   "cell_type": "code",
   "execution_count": 9,
   "metadata": {},
   "outputs": [
    {
     "name": "stdout",
     "output_type": "stream",
     "text": [
      "+---------+-----+\n",
      "|      x35|count|\n",
      "+---------+-----+\n",
      "|      fri|   26|\n",
      "|     null|    9|\n",
      "|     thur| 4405|\n",
      "|   monday|   66|\n",
      "|      wed|14775|\n",
      "|wednesday| 5938|\n",
      "|   friday|  521|\n",
      "|  tuesday|  882|\n",
      "|  thurday|13378|\n",
      "+---------+-----+\n",
      "\n"
     ]
    }
   ],
   "source": [
    "df.groupBy('x35').count().show()"
   ]
  },
  {
   "cell_type": "code",
   "execution_count": 10,
   "metadata": {},
   "outputs": [
    {
     "name": "stdout",
     "output_type": "stream",
     "text": [
      "+---------+-----+\n",
      "|      x35|count|\n",
      "+---------+-----+\n",
      "|     null|    9|\n",
      "| thursday|17783|\n",
      "|   monday|   66|\n",
      "|wednesday|20713|\n",
      "|   friday|  547|\n",
      "|  tuesday|  882|\n",
      "+---------+-----+\n",
      "\n"
     ]
    }
   ],
   "source": [
    "fix_days_udf = udf(lambda x: 'wednesday' if x == 'wed' else('thursday' if x == 'thur' or x == 'thurday' else('friday' if x == 'fri' else x)))\n",
    "\n",
    "df = df.withColumn('x35', fix_days_udf('x35'))\n",
    "\n",
    "df.groupBy('x35').count().show()"
   ]
  },
  {
   "cell_type": "code",
   "execution_count": 11,
   "metadata": {
    "scrolled": true
   },
   "outputs": [
    {
     "name": "stdout",
     "output_type": "stream",
     "text": [
      "+----+-----+\n",
      "| x68|count|\n",
      "+----+-----+\n",
      "| Oct|  910|\n",
      "| Sep| 3514|\n",
      "| Dec|   21|\n",
      "|null|   10|\n",
      "| Aug| 8173|\n",
      "| May| 4801|\n",
      "| Jun| 9256|\n",
      "| Feb|   47|\n",
      "| Nov|  150|\n",
      "| Mar|  414|\n",
      "| Jan|   11|\n",
      "| Apr| 1640|\n",
      "| Jul|11053|\n",
      "+----+-----+\n",
      "\n"
     ]
    }
   ],
   "source": [
    "fix_months_udf = udf(lambda x: 'Jan' if x == 'January' else('Jul' if x == 'July' else('Sep' if x == 'sept.' else('Dec' if x == 'Dev' else x))))\n",
    "\n",
    "df = df.withColumn('x68', fix_months_udf('x68'))\n",
    "\n",
    "df.groupBy('x68').count().show()"
   ]
  },
  {
   "cell_type": "code",
   "execution_count": 12,
   "metadata": {},
   "outputs": [
    {
     "name": "stdout",
     "output_type": "stream",
     "text": [
      "root\n",
      " |-- x0: double (nullable = true)\n",
      " |-- x1: double (nullable = true)\n",
      " |-- x2: double (nullable = true)\n",
      " |-- x3: double (nullable = true)\n",
      " |-- x4: double (nullable = true)\n",
      " |-- x5: double (nullable = true)\n",
      " |-- x6: double (nullable = true)\n",
      " |-- x7: double (nullable = true)\n",
      " |-- x8: double (nullable = true)\n",
      " |-- x9: double (nullable = true)\n",
      " |-- x10: double (nullable = true)\n",
      " |-- x11: double (nullable = true)\n",
      " |-- x12: double (nullable = true)\n",
      " |-- x13: double (nullable = true)\n",
      " |-- x14: double (nullable = true)\n",
      " |-- x15: double (nullable = true)\n",
      " |-- x16: double (nullable = true)\n",
      " |-- x17: double (nullable = true)\n",
      " |-- x18: double (nullable = true)\n",
      " |-- x19: double (nullable = true)\n",
      " |-- x20: double (nullable = true)\n",
      " |-- x21: double (nullable = true)\n",
      " |-- x22: double (nullable = true)\n",
      " |-- x23: double (nullable = true)\n",
      " |-- x24: double (nullable = true)\n",
      " |-- x25: double (nullable = true)\n",
      " |-- x26: double (nullable = true)\n",
      " |-- x27: double (nullable = true)\n",
      " |-- x28: double (nullable = true)\n",
      " |-- x29: double (nullable = true)\n",
      " |-- x30: double (nullable = true)\n",
      " |-- x31: double (nullable = true)\n",
      " |-- x32: double (nullable = true)\n",
      " |-- x33: double (nullable = true)\n",
      " |-- x34: string (nullable = true)\n",
      " |-- x35: string (nullable = true)\n",
      " |-- x36: double (nullable = true)\n",
      " |-- x37: double (nullable = true)\n",
      " |-- x38: double (nullable = true)\n",
      " |-- x39: double (nullable = true)\n",
      " |-- x40: double (nullable = true)\n",
      " |-- x41: double (nullable = true)\n",
      " |-- x42: double (nullable = true)\n",
      " |-- x43: double (nullable = true)\n",
      " |-- x44: double (nullable = true)\n",
      " |-- x45: double (nullable = true)\n",
      " |-- x46: double (nullable = true)\n",
      " |-- x47: double (nullable = true)\n",
      " |-- x48: double (nullable = true)\n",
      " |-- x49: double (nullable = true)\n",
      " |-- x50: double (nullable = true)\n",
      " |-- x51: double (nullable = true)\n",
      " |-- x52: double (nullable = true)\n",
      " |-- x53: double (nullable = true)\n",
      " |-- x54: double (nullable = true)\n",
      " |-- x55: double (nullable = true)\n",
      " |-- x56: double (nullable = true)\n",
      " |-- x57: double (nullable = true)\n",
      " |-- x58: double (nullable = true)\n",
      " |-- x59: double (nullable = true)\n",
      " |-- x60: double (nullable = true)\n",
      " |-- x61: double (nullable = true)\n",
      " |-- x62: double (nullable = true)\n",
      " |-- x63: double (nullable = true)\n",
      " |-- x64: double (nullable = true)\n",
      " |-- x65: double (nullable = true)\n",
      " |-- x66: double (nullable = true)\n",
      " |-- x67: double (nullable = true)\n",
      " |-- x68: string (nullable = true)\n",
      " |-- x69: double (nullable = true)\n",
      " |-- x70: double (nullable = true)\n",
      " |-- x71: double (nullable = true)\n",
      " |-- x72: double (nullable = true)\n",
      " |-- x73: double (nullable = true)\n",
      " |-- x74: double (nullable = true)\n",
      " |-- x75: double (nullable = true)\n",
      " |-- x76: double (nullable = true)\n",
      " |-- x77: double (nullable = true)\n",
      " |-- x78: double (nullable = true)\n",
      " |-- x79: double (nullable = true)\n",
      " |-- x80: double (nullable = true)\n",
      " |-- x81: double (nullable = true)\n",
      " |-- x82: double (nullable = true)\n",
      " |-- x83: double (nullable = true)\n",
      " |-- x84: double (nullable = true)\n",
      " |-- x85: double (nullable = true)\n",
      " |-- x86: double (nullable = true)\n",
      " |-- x87: double (nullable = true)\n",
      " |-- x88: double (nullable = true)\n",
      " |-- x89: double (nullable = true)\n",
      " |-- x90: double (nullable = true)\n",
      " |-- x91: double (nullable = true)\n",
      " |-- x92: double (nullable = true)\n",
      " |-- x93: string (nullable = true)\n",
      " |-- x94: double (nullable = true)\n",
      " |-- x95: double (nullable = true)\n",
      " |-- x96: double (nullable = true)\n",
      " |-- x97: double (nullable = true)\n",
      " |-- x98: double (nullable = true)\n",
      " |-- x99: double (nullable = true)\n",
      " |-- y: integer (nullable = true)\n",
      "\n"
     ]
    }
   ],
   "source": [
    "df.printSchema()"
   ]
  },
  {
   "cell_type": "code",
   "execution_count": 13,
   "metadata": {},
   "outputs": [],
   "source": [
    "numeric = [typ[0] for typ in df.dtypes if typ[1] == 'double']\n",
    "\n",
    "imputer = Imputer(\n",
    "    inputCols=df.select(numeric).columns, \n",
    "    outputCols=df.select(numeric).columns)\\\n",
    ".setStrategy('mean')\n",
    "\n",
    "df = imputer.fit(df).transform(df)"
   ]
  },
  {
   "cell_type": "code",
   "execution_count": 14,
   "metadata": {},
   "outputs": [
    {
     "name": "stdout",
     "output_type": "stream",
     "text": [
      "+-------+-----------------+\n",
      "|summary|              x41|\n",
      "+-------+-----------------+\n",
      "|  count|            40000|\n",
      "|   mean|794.7110191528724|\n",
      "| stddev|602.3889626035261|\n",
      "|    min|             0.01|\n",
      "|    max|          4496.46|\n",
      "+-------+-----------------+\n",
      "\n"
     ]
    }
   ],
   "source": [
    "df.select('x41').describe().show()"
   ]
  },
  {
   "cell_type": "code",
   "execution_count": 15,
   "metadata": {},
   "outputs": [
    {
     "name": "stdout",
     "output_type": "stream",
     "text": [
      "+---+-----+\n",
      "|x68|count|\n",
      "+---+-----+\n",
      "|Oct|  910|\n",
      "|Sep| 3514|\n",
      "|Dec|   21|\n",
      "|Aug| 8173|\n",
      "|May| 4801|\n",
      "|Jun| 9256|\n",
      "|Feb|   47|\n",
      "|Nov|  150|\n",
      "|Mar|  414|\n",
      "|Jan|   11|\n",
      "|Apr| 1640|\n",
      "|Jul|11063|\n",
      "+---+-----+\n",
      "\n"
     ]
    }
   ],
   "source": [
    "new_cat = [typ[0] for typ in df.dtypes if typ[1] == 'string']\n",
    "\n",
    "for colu in df.select(new_cat).columns:\n",
    "    mode = df.groupBy(colu).count().sort(desc('count')).first()[0]\n",
    "    df = df.fillna({colu : mode})\n",
    "    categ = df.select(colu).distinct().rdd.flatMap(lambda x:x).collect()\n",
    "    exprs = [when(col(colu) == cat,1).otherwise(0)\\\n",
    "            .alias(str(cat)) for cat in categ]\n",
    "    df = df.select(exprs+df.columns)\n",
    "\n",
    "df.groupBy('x68').count().show()"
   ]
  },
  {
   "cell_type": "code",
   "execution_count": 16,
   "metadata": {},
   "outputs": [
    {
     "name": "stdout",
     "output_type": "stream",
     "text": [
      "root\n",
      " |-- america: integer (nullable = false)\n",
      " |-- euorpe: integer (nullable = false)\n",
      " |-- asia: integer (nullable = false)\n",
      " |-- Oct: integer (nullable = false)\n",
      " |-- Sep: integer (nullable = false)\n",
      " |-- Dec: integer (nullable = false)\n",
      " |-- Aug: integer (nullable = false)\n",
      " |-- May: integer (nullable = false)\n",
      " |-- Jun: integer (nullable = false)\n",
      " |-- Feb: integer (nullable = false)\n",
      " |-- Nov: integer (nullable = false)\n",
      " |-- Mar: integer (nullable = false)\n",
      " |-- Jan: integer (nullable = false)\n",
      " |-- Apr: integer (nullable = false)\n",
      " |-- Jul: integer (nullable = false)\n",
      " |-- thursday: integer (nullable = false)\n",
      " |-- monday: integer (nullable = false)\n",
      " |-- wednesday: integer (nullable = false)\n",
      " |-- friday: integer (nullable = false)\n",
      " |-- tuesday: integer (nullable = false)\n",
      " |-- volkswagon: integer (nullable = false)\n",
      " |-- Honda: integer (nullable = false)\n",
      " |-- tesla: integer (nullable = false)\n",
      " |-- bmw: integer (nullable = false)\n",
      " |-- ford: integer (nullable = false)\n",
      " |-- mercades: integer (nullable = false)\n",
      " |-- chevrolet: integer (nullable = false)\n",
      " |-- nissan: integer (nullable = false)\n",
      " |-- Toyota: integer (nullable = false)\n",
      " |-- chrystler: integer (nullable = false)\n",
      " |-- x0: double (nullable = true)\n",
      " |-- x1: double (nullable = true)\n",
      " |-- x2: double (nullable = true)\n",
      " |-- x3: double (nullable = true)\n",
      " |-- x4: double (nullable = true)\n",
      " |-- x5: double (nullable = true)\n",
      " |-- x6: double (nullable = true)\n",
      " |-- x7: double (nullable = true)\n",
      " |-- x8: double (nullable = true)\n",
      " |-- x9: double (nullable = true)\n",
      " |-- x10: double (nullable = true)\n",
      " |-- x11: double (nullable = true)\n",
      " |-- x12: double (nullable = true)\n",
      " |-- x13: double (nullable = true)\n",
      " |-- x14: double (nullable = true)\n",
      " |-- x15: double (nullable = true)\n",
      " |-- x16: double (nullable = true)\n",
      " |-- x17: double (nullable = true)\n",
      " |-- x18: double (nullable = true)\n",
      " |-- x19: double (nullable = true)\n",
      " |-- x20: double (nullable = true)\n",
      " |-- x21: double (nullable = true)\n",
      " |-- x22: double (nullable = true)\n",
      " |-- x23: double (nullable = true)\n",
      " |-- x24: double (nullable = true)\n",
      " |-- x25: double (nullable = true)\n",
      " |-- x26: double (nullable = true)\n",
      " |-- x27: double (nullable = true)\n",
      " |-- x28: double (nullable = true)\n",
      " |-- x29: double (nullable = true)\n",
      " |-- x30: double (nullable = true)\n",
      " |-- x31: double (nullable = true)\n",
      " |-- x32: double (nullable = true)\n",
      " |-- x33: double (nullable = true)\n",
      " |-- x36: double (nullable = true)\n",
      " |-- x37: double (nullable = true)\n",
      " |-- x38: double (nullable = true)\n",
      " |-- x39: double (nullable = true)\n",
      " |-- x40: double (nullable = true)\n",
      " |-- x41: double (nullable = true)\n",
      " |-- x42: double (nullable = true)\n",
      " |-- x43: double (nullable = true)\n",
      " |-- x44: double (nullable = true)\n",
      " |-- x45: double (nullable = true)\n",
      " |-- x46: double (nullable = true)\n",
      " |-- x47: double (nullable = true)\n",
      " |-- x48: double (nullable = true)\n",
      " |-- x49: double (nullable = true)\n",
      " |-- x50: double (nullable = true)\n",
      " |-- x51: double (nullable = true)\n",
      " |-- x52: double (nullable = true)\n",
      " |-- x53: double (nullable = true)\n",
      " |-- x54: double (nullable = true)\n",
      " |-- x55: double (nullable = true)\n",
      " |-- x56: double (nullable = true)\n",
      " |-- x57: double (nullable = true)\n",
      " |-- x58: double (nullable = true)\n",
      " |-- x59: double (nullable = true)\n",
      " |-- x60: double (nullable = true)\n",
      " |-- x61: double (nullable = true)\n",
      " |-- x62: double (nullable = true)\n",
      " |-- x63: double (nullable = true)\n",
      " |-- x64: double (nullable = true)\n",
      " |-- x65: double (nullable = true)\n",
      " |-- x66: double (nullable = true)\n",
      " |-- x67: double (nullable = true)\n",
      " |-- x69: double (nullable = true)\n",
      " |-- x70: double (nullable = true)\n",
      " |-- x71: double (nullable = true)\n",
      " |-- x72: double (nullable = true)\n",
      " |-- x73: double (nullable = true)\n",
      " |-- x74: double (nullable = true)\n",
      " |-- x75: double (nullable = true)\n",
      " |-- x76: double (nullable = true)\n",
      " |-- x77: double (nullable = true)\n",
      " |-- x78: double (nullable = true)\n",
      " |-- x79: double (nullable = true)\n",
      " |-- x80: double (nullable = true)\n",
      " |-- x81: double (nullable = true)\n",
      " |-- x82: double (nullable = true)\n",
      " |-- x83: double (nullable = true)\n",
      " |-- x84: double (nullable = true)\n",
      " |-- x85: double (nullable = true)\n",
      " |-- x86: double (nullable = true)\n",
      " |-- x87: double (nullable = true)\n",
      " |-- x88: double (nullable = true)\n",
      " |-- x89: double (nullable = true)\n",
      " |-- x90: double (nullable = true)\n",
      " |-- x91: double (nullable = true)\n",
      " |-- x92: double (nullable = true)\n",
      " |-- x94: double (nullable = true)\n",
      " |-- x95: double (nullable = true)\n",
      " |-- x96: double (nullable = true)\n",
      " |-- x97: double (nullable = true)\n",
      " |-- x98: double (nullable = true)\n",
      " |-- x99: double (nullable = true)\n",
      " |-- y: integer (nullable = true)\n",
      "\n"
     ]
    }
   ],
   "source": [
    "df = df.select([typ[0] for typ in df.dtypes if typ[1] != 'string'])\n",
    "df.printSchema()"
   ]
  },
  {
   "cell_type": "code",
   "execution_count": 17,
   "metadata": {},
   "outputs": [
    {
     "name": "stdout",
     "output_type": "stream",
     "text": [
      "+-------+-----+\n",
      "|america|count|\n",
      "+-------+-----+\n",
      "|      1| 3124|\n",
      "|      0|36876|\n",
      "+-------+-----+\n",
      "\n"
     ]
    }
   ],
   "source": [
    "df.groupBy('america').count().show()"
   ]
  },
  {
   "cell_type": "code",
   "execution_count": 18,
   "metadata": {},
   "outputs": [],
   "source": [
    "scale_assembler = VectorAssembler(inputCols=df.select([typ[0] for typ in df.dtypes if typ[1] == 'double']).columns, outputCol=\"scaled_features\")\n",
    "df = scale_assembler.transform(df)\n",
    "\n",
    "dummies_assembler = VectorAssembler(inputCols=df.select([typ[0] for typ in df.dtypes if typ[1] == 'int' and typ[0] != 'y']).columns, outputCol=\"dummied_features\")\n",
    "df = dummies_assembler.transform(df)"
   ]
  },
  {
   "cell_type": "code",
   "execution_count": 62,
   "metadata": {},
   "outputs": [
    {
     "name": "stdout",
     "output_type": "stream",
     "text": [
      "+--------------------+\n",
      "|    dummied_features|\n",
      "+--------------------+\n",
      "|(30,[2,14,17,21],...|\n",
      "|(30,[2,8,17,21],[...|\n",
      "|(30,[2,6,15,20],[...|\n",
      "|(30,[2,14,15,20],...|\n",
      "|(30,[2,14,15,24],...|\n",
      "|(30,[2,14,17,28],...|\n",
      "|(30,[2,8,15,20],[...|\n",
      "|(30,[2,14,15,20],...|\n",
      "|(30,[2,6,15,28],[...|\n",
      "|(30,[2,14,17,23],...|\n",
      "|(30,[2,6,15,21],[...|\n",
      "|(30,[2,8,15,28],[...|\n",
      "|(30,[2,6,17,21],[...|\n",
      "|(30,[2,4,17,20],[...|\n",
      "|(30,[2,14,17,20],...|\n",
      "|(30,[2,14,17,20],...|\n",
      "|(30,[2,8,17,29],[...|\n",
      "|(30,[0,14,17,28],...|\n",
      "|(30,[2,6,17,20],[...|\n",
      "|(30,[2,7,17,20],[...|\n",
      "+--------------------+\n",
      "only showing top 20 rows\n",
      "\n"
     ]
    }
   ],
   "source": [
    "df.select('dummied_features').show()"
   ]
  },
  {
   "cell_type": "code",
   "execution_count": 64,
   "metadata": {},
   "outputs": [
    {
     "name": "stdout",
     "output_type": "stream",
     "text": [
      "+--------------------+\n",
      "|            features|\n",
      "+--------------------+\n",
      "|[83.8123295567722...|\n",
      "|[-0.4453115534052...|\n",
      "|[82.9271478130186...|\n",
      "|[370.736586297153...|\n",
      "|[33.7752628665715...|\n",
      "+--------------------+\n",
      "only showing top 5 rows\n",
      "\n"
     ]
    }
   ],
   "source": [
    "new_vec = VectorAssembler(inputCols=['scaled_features', 'dummied_features'], outputCol=\"features\")\n",
    "lr_df = new_vec.transform(df)\n",
    "lr_df.select('features').show(5)"
   ]
  },
  {
   "cell_type": "code",
   "execution_count": 21,
   "metadata": {},
   "outputs": [],
   "source": [
    "# for x in range(0, len(df.columns)):\n",
    "#     df.select(df.columns[x]).describe().show()"
   ]
  },
  {
   "cell_type": "code",
   "execution_count": 65,
   "metadata": {},
   "outputs": [],
   "source": [
    "lr_df = lr_df.withColumnRenamed('y', 'label')\n",
    "train, test = lr_df.randomSplit([0.7, 0.3], seed = 28)"
   ]
  },
  {
   "cell_type": "code",
   "execution_count": 68,
   "metadata": {},
   "outputs": [],
   "source": [
    "lrModel = LogisticRegression(maxIter=100)"
   ]
  },
  {
   "cell_type": "code",
   "execution_count": 69,
   "metadata": {},
   "outputs": [],
   "source": [
    "lrModel = lrModel.fit(train)"
   ]
  },
  {
   "cell_type": "code",
   "execution_count": 70,
   "metadata": {},
   "outputs": [],
   "source": [
    "trainingSummary = lrModel.summary"
   ]
  },
  {
   "cell_type": "code",
   "execution_count": 71,
   "metadata": {},
   "outputs": [
    {
     "data": {
      "text/plain": [
       "0.9088851632199597"
      ]
     },
     "execution_count": 71,
     "metadata": {},
     "output_type": "execute_result"
    }
   ],
   "source": [
    "trainingSummary.areaUnderROC"
   ]
  },
  {
   "cell_type": "code",
   "execution_count": 72,
   "metadata": {},
   "outputs": [
    {
     "data": {
      "text/plain": [
       "0.8919179648420752"
      ]
     },
     "execution_count": 72,
     "metadata": {},
     "output_type": "execute_result"
    }
   ],
   "source": [
    "trainingSummary.accuracy"
   ]
  },
  {
   "cell_type": "code",
   "execution_count": 73,
   "metadata": {},
   "outputs": [
    {
     "name": "stdout",
     "output_type": "stream",
     "text": [
      "+-------------------+------------------+\n",
      "|             recall|         precision|\n",
      "+-------------------+------------------+\n",
      "|                0.0| 0.992831541218638|\n",
      "|0.04913961326946958| 0.992831541218638|\n",
      "|0.09827922653893915| 0.992831541218638|\n",
      "|0.14688664183076106| 0.989247311827957|\n",
      "|0.19407486251552244|0.9802867383512545|\n",
      "|0.24037608657087103|0.9713261648745519|\n",
      "| 0.2854355153450417|0.9611708482676224|\n",
      "| 0.3297853468156821|0.9518689196108551|\n",
      "|0.37253858435337944|0.9408602150537635|\n",
      "| 0.4126308320028384|0.9263241736360016|\n",
      "|0.44952989178641123|0.9082437275985663|\n",
      "|0.48447755898527584|0.8898664059954382|\n",
      "| 0.5185382295547277|0.8730585424133811|\n",
      "|  0.546744722370055|0.8497380755445272|\n",
      "| 0.5756608124889125|0.8307731694828469|\n",
      "| 0.6031577080007096|0.8124253285543608|\n",
      "| 0.6285258116019159|0.7936827956989247|\n",
      "| 0.6501685293595885|0.7727176892262281|\n",
      "| 0.6696824552066702|0.7516925527678215|\n",
      "| 0.6893737803796346|0.7330692322203358|\n",
      "+-------------------+------------------+\n",
      "only showing top 20 rows\n",
      "\n"
     ]
    }
   ],
   "source": [
    "trainingSummary.pr.show()"
   ]
  },
  {
   "cell_type": "code",
   "execution_count": 74,
   "metadata": {},
   "outputs": [
    {
     "data": {
      "text/plain": [
       "[0.9083762995520244, 0.8018955154877485]"
      ]
     },
     "execution_count": 74,
     "metadata": {},
     "output_type": "execute_result"
    }
   ],
   "source": [
    "trainingSummary.precisionByLabel"
   ]
  },
  {
   "cell_type": "code",
   "execution_count": 75,
   "metadata": {},
   "outputs": [
    {
     "data": {
      "text/plain": [
       "[0.9616571965460159, 0.6153982614866064]"
      ]
     },
     "execution_count": 75,
     "metadata": {},
     "output_type": "execute_result"
    }
   ],
   "source": [
    "trainingSummary.recallByLabel"
   ]
  },
  {
   "cell_type": "code",
   "execution_count": 76,
   "metadata": {},
   "outputs": [
    {
     "data": {
      "text/plain": [
       "[0.9616571965460159, 0.6153982614866064]"
      ]
     },
     "execution_count": 76,
     "metadata": {},
     "output_type": "execute_result"
    }
   ],
   "source": [
    "trainingSummary.truePositiveRateByLabel"
   ]
  },
  {
   "cell_type": "code",
   "execution_count": 77,
   "metadata": {},
   "outputs": [
    {
     "data": {
      "text/plain": [
       "0.4186092654250552"
      ]
     },
     "execution_count": 77,
     "metadata": {},
     "output_type": "execute_result"
    }
   ],
   "source": [
    "fMeasure = trainingSummary.fMeasureByThreshold\n",
    "maxFMeasure = fMeasure.groupBy().max('F-Measure').select('max(F-Measure)').head()\n",
    "\n",
    "fMeasure.where(fMeasure['F-Measure'] == maxFMeasure['max(F-Measure)']) \\\n",
    "    .select('threshold').head()['threshold']"
   ]
  },
  {
   "cell_type": "code",
   "execution_count": 78,
   "metadata": {},
   "outputs": [
    {
     "data": {
      "text/plain": [
       "[<matplotlib.lines.Line2D at 0x7f612b1755f8>]"
      ]
     },
     "execution_count": 78,
     "metadata": {},
     "output_type": "execute_result"
    },
    {
     "data": {
      "image/png": "[encoded data removed]",
      "text/plain": [
       "<Figure size 432x288 with 1 Axes>"
      ]
     },
     "metadata": {
      "needs_background": "light"
     },
     "output_type": "display_data"
    }
   ],
   "source": [
    "roc = trainingSummary.roc.toPandas()\n",
    "\n",
    "plt.plot(roc['FPR'],roc['TPR'])"
   ]
  },
  {
   "cell_type": "code",
   "execution_count": 89,
   "metadata": {},
   "outputs": [
    {
     "data": {
      "text/plain": [
       "0.9048041327624263"
      ]
     },
     "execution_count": 89,
     "metadata": {},
     "output_type": "execute_result"
    }
   ],
   "source": [
    "predictions = lrModel.transform(test)\n",
    "evaluator = BinaryClassificationEvaluator()\n",
    "evaluator.evaluate(predictions)\n",
    "evaluator.evaluate(predictions, {evaluator.metricName: \"areaUnderROC\"})"
   ]
  },
  {
   "cell_type": "code",
   "execution_count": 90,
   "metadata": {},
   "outputs": [
    {
     "name": "stdout",
     "output_type": "stream",
     "text": [
      "+--------------------+\n",
      "|         probability|\n",
      "+--------------------+\n",
      "|[0.96880148417795...|\n",
      "|[0.21706713077703...|\n",
      "|[0.93286435925222...|\n",
      "|[0.97563428405921...|\n",
      "|[0.15366130793932...|\n",
      "|[0.40326075121273...|\n",
      "|[0.95025519825920...|\n",
      "|[0.97382964966322...|\n",
      "|[0.97199655636082...|\n",
      "|[0.87236683015762...|\n",
      "|[0.99605973960127...|\n",
      "|[0.99895810081040...|\n",
      "|[0.84205461270852...|\n",
      "|[0.85914792121867...|\n",
      "|[0.36572285028482...|\n",
      "|[0.07394376746963...|\n",
      "|[0.99224042061524...|\n",
      "|[0.15382435297175...|\n",
      "|[0.99611578026910...|\n",
      "|[0.83395086862024...|\n",
      "+--------------------+\n",
      "only showing top 20 rows\n",
      "\n"
     ]
    }
   ],
   "source": [
    "predictions.select('probability').show()"
   ]
  },
  {
   "cell_type": "code",
   "execution_count": 91,
   "metadata": {},
   "outputs": [
    {
     "name": "stdout",
     "output_type": "stream",
     "text": [
      "+-----------+-----+\n",
      "|probability|label|\n",
      "+-----------+-----+\n",
      "|   0.999786|    1|\n",
      "|  0.9997026|    1|\n",
      "| 0.99969375|    1|\n",
      "|  0.9993031|    1|\n",
      "|  0.9992439|    1|\n",
      "| 0.99917907|    1|\n",
      "| 0.99917066|    1|\n",
      "|  0.9990776|    1|\n",
      "|  0.9990406|    1|\n",
      "|  0.9988633|    1|\n",
      "| 0.99868196|    1|\n",
      "|    0.99835|    1|\n",
      "|  0.9982475|    1|\n",
      "| 0.99823093|    1|\n",
      "| 0.99810827|    1|\n",
      "| 0.99793714|    1|\n",
      "| 0.99784964|    1|\n",
      "|  0.9977921|    1|\n",
      "| 0.99772567|    1|\n",
      "|  0.9976351|    1|\n",
      "+-----------+-----+\n",
      "only showing top 20 rows\n",
      "\n"
     ]
    }
   ],
   "source": [
    "firstelement = udf(lambda v:float(v[1]), FloatType())\n",
    "predictions.select(firstelement('probability').alias('probability'), 'label').sort(desc('probability')).show()"
   ]
  },
  {
   "cell_type": "code",
   "execution_count": null,
   "metadata": {},
   "outputs": [],
   "source": []
  }
 ],
 "metadata": {
  "kernelspec": {
   "display_name": "Python 3",
   "language": "python",
   "name": "python3"
  },
  "language_info": {
   "codemirror_mode": {
    "name": "ipython",
    "version": 3
   },
   "file_extension": ".py",
   "mimetype": "text/x-python",
   "name": "python",
   "nbconvert_exporter": "python",
   "pygments_lexer": "ipython3",
   "version": "3.7.1"
  }
 },
 "nbformat": 4,
 "nbformat_minor": 2
}
